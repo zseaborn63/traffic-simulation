{
 "cells": [
  {
   "cell_type": "code",
   "execution_count": null,
   "metadata": {
    "collapsed": false
   },
   "outputs": [],
   "source": [
    "x = [\"0\" for _ in range(1000)]\n",
    "print(x)"
   ]
  },
  {
   "cell_type": "code",
   "execution_count": null,
   "metadata": {
    "collapsed": false
   },
   "outputs": [],
   "source": [
    "x[1:6]"
   ]
  },
  {
   "cell_type": "code",
   "execution_count": null,
   "metadata": {
    "collapsed": false
   },
   "outputs": [],
   "source": [
    "x = list(range(1000))\n",
    "print(x)"
   ]
  },
  {
   "cell_type": "code",
   "execution_count": null,
   "metadata": {
    "collapsed": false
   },
   "outputs": [],
   "source": [
    "x 987"
   ]
  },
  {
   "cell_type": "code",
   "execution_count": 10,
   "metadata": {
    "collapsed": true
   },
   "outputs": [],
   "source": [
    "import statistics"
   ]
  },
  {
   "cell_type": "code",
   "execution_count": null,
   "metadata": {
    "collapsed": false
   },
   "outputs": [],
   "source": [
    "np.linspace(0, 1000, num=30)"
   ]
  },
  {
   "cell_type": "code",
   "execution_count": 1,
   "metadata": {
    "collapsed": false
   },
   "outputs": [],
   "source": [
    "from car import Sim"
   ]
  },
  {
   "cell_type": "code",
   "execution_count": 2,
   "metadata": {
    "collapsed": true
   },
   "outputs": [],
   "source": [
    "sim = Sim(30, 60)"
   ]
  },
  {
   "cell_type": "code",
   "execution_count": 3,
   "metadata": {
    "collapsed": false
   },
   "outputs": [],
   "source": [
    "x = sim.run_sim()"
   ]
  },
  {
   "cell_type": "code",
   "execution_count": 8,
   "metadata": {
    "collapsed": false
   },
   "outputs": [
    {
     "name": "stdout",
     "output_type": "stream",
     "text": [
      "[525.0, 570.48275862068965, 592.9655172413793, 625.44827586206895, 633.93103448275861, 642.41379310344826, 676.89655172413791, 709.37931034482767, 727.86206896551721, 748.34482758620697, 758.82758620689651, 923.31034482758628, 945.79310344827582, 0.27586206896557997, 996.75862068965523, 87.241379310344882, 89.72413793103442, 174.20689655172418, 186.68965517241384, 209.17241379310349, 215.65517241379314, 258.13793103448279, 268.62068965517255, 301.10344827586209, 382.58620689655186, 413.06896551724139, 421.55172413793116, 515.03448275862092, 531.51724137931046, 550.0]\n",
      "[558.0, 603.48275862068965, 625.9655172413793, 658.44827586206895, 666.93103448275861, 675.41379310344826, 709.89655172413791, 742.37931034482767, 760.86206896551721, 781.34482758620697, 791.82758620689651, 956.31034482758628, 978.79310344827582, 33.27586206896558, 29.758620689655345, 120.24137931034488, 122.72413793103442, 207.20689655172418, 219.68965517241384, 242.17241379310349, 248.65517241379314, 291.13793103448279, 301.62068965517255, 332.10344827586209, 415.58620689655186, 446.06896551724139, 454.55172413793116, 548.03448275862092, 564.51724137931046, 583.0]\n",
      "[591.0, 636.48275862068965, 658.9655172413793, 691.44827586206895, 699.93103448275861, 708.41379310344826, 742.89655172413791, 775.37931034482767, 793.86206896551721, 814.34482758620697, 822.82758620689651, 989.31034482758628, 11.793103448275815, 66.27586206896558, 62.758620689655345, 153.24137931034488, 155.72413793103442, 240.20689655172418, 252.68965517241384, 275.17241379310349, 279.65517241379314, 322.13793103448279, 332.62068965517255, 363.10344827586209, 448.58620689655186, 479.06896551724139, 487.55172413793116, 581.03448275862092, 597.51724137931046, 616.0]\n",
      "[624.0, 669.48275862068965, 691.9655172413793, 724.44827586206895, 732.93103448275861, 741.41379310344826, 775.89655172413791, 808.37931034482767, 826.86206896551721, 845.34482758620697, 851.82758620689651, 22.310344827586277, 44.793103448275815, 99.27586206896558, 93.758620689655345, 186.24137931034488, 188.72413793103442, 273.20689655172418, 285.68965517241384, 308.17241379310349, 312.65517241379314, 355.13793103448279, 365.62068965517255, 396.10344827586209, 481.58620689655186, 512.06896551724139, 520.55172413793116, 614.03448275862092, 630.51724137931046, 649.0]\n",
      "[657.0, 702.48275862068965, 724.9655172413793, 757.44827586206895, 763.93103448275861, 772.41379310344826, 806.89655172413791, 839.37931034482767, 857.86206896551721, 876.34482758620697, 882.82758620689651, 55.310344827586277, 75.793103448275815, 130.27586206896558, 124.75862068965534, 219.24137931034488, 221.72413793103442, 306.20689655172418, 318.68965517241384, 341.17241379310349, 345.65517241379314, 388.13793103448279, 398.62068965517255, 429.10344827586209, 514.58620689655186, 545.06896551724139, 553.55172413793116, 645.03448275862092, 661.51724137931046, 680.0]\n"
     ]
    }
   ],
   "source": [
    "print(x[0][55])\n",
    "print(x[0][56])\n",
    "print(x[0][57])\n",
    "print(x[0][58])\n",
    "print(x[0][59])"
   ]
  },
  {
   "cell_type": "code",
   "execution_count": null,
   "metadata": {
    "collapsed": true
   },
   "outputs": [],
   "source": [
    "from car import Car"
   ]
  },
  {
   "cell_type": "code",
   "execution_count": null,
   "metadata": {
    "collapsed": false
   },
   "outputs": [],
   "source": [
    "you = Car(100, None)\n",
    "yuo = Car(999, you)"
   ]
  },
  {
   "cell_type": "code",
   "execution_count": null,
   "metadata": {
    "collapsed": false
   },
   "outputs": [],
   "source": [
    "yuo.move_car()"
   ]
  },
  {
   "cell_type": "code",
   "execution_count": 4,
   "metadata": {
    "collapsed": true
   },
   "outputs": [],
   "source": [
    "time_slices = [[x] * 30 for x in range(60)] \n"
   ]
  },
  {
   "cell_type": "code",
   "execution_count": 16,
   "metadata": {
    "collapsed": true
   },
   "outputs": [],
   "source": [
    "import matplotlib.pyplot as plt\n",
    "%matplotlib inline"
   ]
  },
  {
   "cell_type": "code",
   "execution_count": 6,
   "metadata": {
    "collapsed": false
   },
   "outputs": [
    {
     "data": {
      "text/plain": [
       "<matplotlib.collections.PathCollection at 0x10f0af390>"
      ]
     },
     "execution_count": 6,
     "metadata": {},
     "output_type": "execute_result"
    },
    {
     "data": {
      "image/png": "[encoded data removed]",
      "text/plain": [
       "<matplotlib.figure.Figure at 0x10f0af208>"
      ]
     },
     "metadata": {},
     "output_type": "display_data"
    }
   ],
   "source": [
    "colors = [\"red\", \"blue\"]\n",
    "plt.scatter(x[0], time_slices, c=colors, marker=\"|\")"
   ]
  },
  {
   "cell_type": "code",
   "execution_count": null,
   "metadata": {
    "collapsed": false
   },
   "outputs": [],
   "source": [
    "colors = [\"red\", \"blue\"]\n",
    "plt.scatter(x[1], time_slices)"
   ]
  },
  {
   "cell_type": "code",
   "execution_count": 11,
   "metadata": {
    "collapsed": false
   },
   "outputs": [],
   "source": [
    "mean_speeds = []\n",
    "for speed in x[1]:\n",
    "    y = statistics.mean(speed)\n",
    "    mean_speeds.append(y)\n",
    "    \n",
    "total_mean_speed = statistics.mean(mean_speeds)"
   ]
  },
  {
   "cell_type": "code",
   "execution_count": 20,
   "metadata": {
    "collapsed": false
   },
   "outputs": [
    {
     "name": "stdout",
     "output_type": "stream",
     "text": [
      "0.6927968585062573\n"
     ]
    }
   ],
   "source": [
    "standard_dev = []\n",
    "for z in x[1]:\n",
    "    zz = statistics.stdev(z)\n",
    "    standard_dev.append(zz)\n",
    "deviation = statistics.stdev(standard_dev)\n",
    "print(deviation)"
   ]
  },
  {
   "cell_type": "code",
   "execution_count": 22,
   "metadata": {
    "collapsed": false
   },
   "outputs": [
    {
     "data": {
      "text/plain": [
       "<matplotlib.collections.LineCollection at 0x10f765080>"
      ]
     },
     "execution_count": 22,
     "metadata": {},
     "output_type": "execute_result"
    },
    {
     "data": {
      "image/png": "[encoded data removed]",
      "text/plain": [
       "<matplotlib.figure.Figure at 0x10f514a20>"
      ]
     },
     "metadata": {},
     "output_type": "display_data"
    }
   ],
   "source": [
    "\n",
    "plt.scatter(mean_speeds, range(60))\n",
    "plt.vlines(total_mean_speed, ymin=-1, ymax=63)\n",
    "plt.vlines(total_mean_speed - deviation, ymin=-1, ymax=63, linestyle='dashed', color='red')\n",
    "plt.vlines(total_mean_speed + deviation, ymin=-1, ymax=63, linestyle='dashed', color='red')"
   ]
  },
  {
   "cell_type": "code",
   "execution_count": null,
   "metadata": {
    "collapsed": true
   },
   "outputs": [],
   "source": []
  }
 ],
 "metadata": {
  "kernelspec": {
   "display_name": "Python 3",
   "language": "python",
   "name": "python3"
  },
  "language_info": {
   "codemirror_mode": {
    "name": "ipython",
    "version": 3
   },
   "file_extension": ".py",
   "mimetype": "text/x-python",
   "name": "python",
   "nbconvert_exporter": "python",
   "pygments_lexer": "ipython3",
   "version": "3.5.0"
  }
 },
 "nbformat": 4,
 "nbformat_minor": 0
}
