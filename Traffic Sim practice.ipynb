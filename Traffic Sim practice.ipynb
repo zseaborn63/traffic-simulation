{
 "cells": [
  {
   "cell_type": "code",
   "execution_count": null,
   "metadata": {
    "collapsed": false
   },
   "outputs": [],
   "source": [
    "x = [\"0\" for _ in range(1000)]\n",
    "print(x)"
   ]
  },
  {
   "cell_type": "code",
   "execution_count": null,
   "metadata": {
    "collapsed": false
   },
   "outputs": [],
   "source": [
    "x[1:6]"
   ]
  },
  {
   "cell_type": "code",
   "execution_count": null,
   "metadata": {
    "collapsed": false
   },
   "outputs": [],
   "source": [
    "x = list(range(1000))\n",
    "print(x)"
   ]
  },
  {
   "cell_type": "code",
   "execution_count": null,
   "metadata": {
    "collapsed": false
   },
   "outputs": [],
   "source": [
    "x 987"
   ]
  },
  {
   "cell_type": "code",
   "execution_count": null,
   "metadata": {
    "collapsed": true
   },
   "outputs": [],
   "source": [
    "import numpy as np"
   ]
  },
  {
   "cell_type": "code",
   "execution_count": null,
   "metadata": {
    "collapsed": false
   },
   "outputs": [],
   "source": [
    "np.linspace(0, 1000, num=30)"
   ]
  },
  {
   "cell_type": "code",
   "execution_count": 1,
   "metadata": {
    "collapsed": false
   },
   "outputs": [],
   "source": [
    "from car import Sim"
   ]
  },
  {
   "cell_type": "code",
   "execution_count": 2,
   "metadata": {
    "collapsed": true
   },
   "outputs": [],
   "source": [
    "sim = Sim(30, 60)"
   ]
  },
  {
   "cell_type": "code",
   "execution_count": 3,
   "metadata": {
    "collapsed": false
   },
   "outputs": [],
   "source": [
    "x = sim.run_sim()"
   ]
  },
  {
   "cell_type": "code",
   "execution_count": 13,
   "metadata": {
    "collapsed": false
   },
   "outputs": [
    {
     "name": "stdout",
     "output_type": "stream",
     "text": [
      "[439, 428, 402, 389, 341, 237, 210, 185, 149, 140, 123, 82, 49, 6, 943, 886, 861, 808, 799, 724, 711, 694, 681, 670, 657, 637, 628, 598, 493, 484]\n",
      "[471, 461, 432, 419, 374, 270, 243, 218, 181, 172, 149, 104, 75, 37, 973, 916, 887, 841, 832, 748, 731, 714, 699, 688, 671, 649, 640, 608, 526, 517]\n",
      "[501, 491, 464, 451, 407, 303, 274, 249, 214, 205, 173, 128, 103, 70, 5, 948, 911, 874, 865, 774, 753, 736, 719, 708, 683, 663, 654, 620, 559, 550]\n",
      "[533, 523, 497, 484, 440, 336, 307, 282, 247, 238, 199, 154, 133, 103, 38, 981, 937, 907, 898, 802, 777, 760, 741, 730, 697, 679, 670, 634, 592, 583]\n",
      "[566, 556, 530, 517, 473, 369, 340, 315, 280, 271, 227, 182, 165, 136, 71, 12, 965, 940, 931, 832, 803, 786, 765, 754, 713, 697, 688, 650, 625, 616]\n",
      "[599, 589, 563, 550, 506, 402, 373, 348, 313, 304, 257, 212, 198, 169, 104, 45, 995, 973, 964, 864, 831, 814, 791, 780, 731, 717, 708, 668, 643, 634]\n"
     ]
    }
   ],
   "source": [
    "print(x[25])\n",
    "print(x[26])\n",
    "print(x[27])\n",
    "print(x[28])\n",
    "print(x[29])\n",
    "print(x[30])"
   ]
  },
  {
   "cell_type": "code",
   "execution_count": null,
   "metadata": {
    "collapsed": true
   },
   "outputs": [],
   "source": [
    "from car import Car"
   ]
  },
  {
   "cell_type": "code",
   "execution_count": null,
   "metadata": {
    "collapsed": false
   },
   "outputs": [],
   "source": [
    "you = Car(100, None)\n",
    "yuo = Car(999, you)"
   ]
  },
  {
   "cell_type": "code",
   "execution_count": null,
   "metadata": {
    "collapsed": false
   },
   "outputs": [],
   "source": [
    "yuo.move_car()"
   ]
  },
  {
   "cell_type": "code",
   "execution_count": 4,
   "metadata": {
    "collapsed": true
   },
   "outputs": [],
   "source": [
    "time_slices = [[x] * 30 for x in range(60)] \n"
   ]
  },
  {
   "cell_type": "code",
   "execution_count": 5,
   "metadata": {
    "collapsed": true
   },
   "outputs": [],
   "source": [
    "import matplotlib.pyplot as plt\n",
    "%matplotlib inline"
   ]
  },
  {
   "cell_type": "code",
   "execution_count": 6,
   "metadata": {
    "collapsed": false
   },
   "outputs": [
    {
     "data": {
      "text/plain": [
       "<matplotlib.collections.PathCollection at 0x1063e7898>"
      ]
     },
     "execution_count": 6,
     "metadata": {},
     "output_type": "execute_result"
    },
    {
     "data": {
      "image/png": "[encoded data removed]",
      "text/plain": [
       "<matplotlib.figure.Figure at 0x1062e1198>"
      ]
     },
     "metadata": {},
     "output_type": "display_data"
    }
   ],
   "source": [
    "colors = [\"red\", \"blue\"]\n",
    "plt.scatter(x, time_slices, c=colors, marker=\"|\")"
   ]
  },
  {
   "cell_type": "code",
   "execution_count": null,
   "metadata": {
    "collapsed": true
   },
   "outputs": [],
   "source": []
  }
 ],
 "metadata": {
  "kernelspec": {
   "display_name": "Python 3",
   "language": "python",
   "name": "python3"
  },
  "language_info": {
   "codemirror_mode": {
    "name": "ipython",
    "version": 3
   },
   "file_extension": ".py",
   "mimetype": "text/x-python",
   "name": "python",
   "nbconvert_exporter": "python",
   "pygments_lexer": "ipython3",
   "version": "3.5.0"
  }
 },
 "nbformat": 4,
 "nbformat_minor": 0
}
